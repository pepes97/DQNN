{
  "nbformat": 4,
  "nbformat_minor": 0,
  "metadata": {
    "colab": {
      "name": "DQNN.ipynb",
      "provenance": [],
      "collapsed_sections": [],
      "toc_visible": true
    },
    "kernelspec": {
      "name": "python3",
      "display_name": "Python 3"
    }
  },
  "cells": [
    {
      "cell_type": "markdown",
      "metadata": {
        "id": "sUoHQSe-yt1-",
        "colab_type": "text"
      },
      "source": [
        "# Main Directory"
      ]
    },
    {
      "cell_type": "code",
      "metadata": {
        "id": "t88f3v31yUsX",
        "colab_type": "code",
        "colab": {}
      },
      "source": [
        "import os\n",
        "\n",
        "# change with the path of your google drive to the project directory\n",
        " os.chdir('/content/drive/My Drive/Neural Networks/DQNN-master')"
      ],
      "execution_count": 0,
      "outputs": []
    },
    {
      "cell_type": "markdown",
      "metadata": {
        "id": "xJhkOvvXyy30",
        "colab_type": "text"
      },
      "source": [
        "# Dependencies"
      ]
    },
    {
      "cell_type": "code",
      "metadata": {
        "id": "em0umxEty2XI",
        "colab_type": "code",
        "colab": {}
      },
      "source": [
        "!pip install -r ./Code/requirements.txt"
      ],
      "execution_count": 0,
      "outputs": []
    },
    {
      "cell_type": "markdown",
      "metadata": {
        "id": "617op_sre-ao",
        "colab_type": "text"
      },
      "source": [
        "#Dataset Directory"
      ]
    },
    {
      "cell_type": "code",
      "metadata": {
        "id": "qTqA0mdjfClb",
        "colab_type": "code",
        "colab": {
          "base_uri": "https://localhost:8080/",
          "height": 34
        },
        "outputId": "91d7a75f-aeb2-4349-984f-331ecc286be9"
      },
      "source": [
        "os.chdir('./Dataset/')\n",
        "%ls"
      ],
      "execution_count": 5,
      "outputs": [
        {
          "output_type": "stream",
          "text": [
            "download_dataset.py  prepare_dataset.py\n"
          ],
          "name": "stdout"
        }
      ]
    },
    {
      "cell_type": "markdown",
      "metadata": {
        "id": "YewA6ExseU6z",
        "colab_type": "text"
      },
      "source": [
        "## Download Datasets - TAU Spatial Sound Events 2019 - Ambisonic version 2 (**only the first time**)"
      ]
    },
    {
      "cell_type": "code",
      "metadata": {
        "id": "ap-O03MdemvG",
        "colab_type": "code",
        "colab": {}
      },
      "source": [
        "!python3 ./download_dataset.py"
      ],
      "execution_count": 0,
      "outputs": []
    },
    {
      "cell_type": "markdown",
      "metadata": {
        "id": "f5U-iv80fQyK",
        "colab_type": "text"
      },
      "source": [
        "## Unzip Datasets (**only the first time**)"
      ]
    },
    {
      "cell_type": "code",
      "metadata": {
        "id": "JHCPJ_9-fU9o",
        "colab_type": "code",
        "colab": {}
      },
      "source": [
        "!python3 ./prepare_dataset.py"
      ],
      "execution_count": 0,
      "outputs": []
    },
    {
      "cell_type": "markdown",
      "metadata": {
        "id": "ikfc_M5_zQLf",
        "colab_type": "text"
      },
      "source": [
        "# Code Directory"
      ]
    },
    {
      "cell_type": "code",
      "metadata": {
        "id": "btxjzFb9zXuA",
        "colab_type": "code",
        "colab": {
          "base_uri": "https://localhost:8080/",
          "height": 106
        },
        "outputId": "4a0adf56-8d6a-47f3-a513-c62bb966768f"
      },
      "source": [
        "os.chdir('./Code/')\n",
        "%ls"
      ],
      "execution_count": 4,
      "outputs": [
        {
          "output_type": "stream",
          "text": [
            "batch_feature_extraction.py  evaluation_metrics.py  parameter.py      seld.py\n",
            "cls_data_generator.py        keras_model.py         README.md         utils.py\n",
            "cls_feature_class.py         LICENSE.md             recurrent.py\n",
            "\u001b[0m\u001b[01;34mcomplexnn\u001b[0m/                   load_json.py           requirements.txt\n"
          ],
          "name": "stdout"
        }
      ]
    },
    {
      "cell_type": "markdown",
      "metadata": {
        "id": "MziIFmoQ8Puv",
        "colab_type": "text"
      },
      "source": [
        "## Extract Feature **(only the first time)**"
      ]
    },
    {
      "cell_type": "code",
      "metadata": {
        "id": "ZawH1NuQ8dSw",
        "colab_type": "code",
        "colab": {}
      },
      "source": [
        "!python3 ./batch_feature_extraction.py"
      ],
      "execution_count": 0,
      "outputs": []
    },
    {
      "cell_type": "markdown",
      "metadata": {
        "id": "ZdpyTncWfx1K",
        "colab_type": "text"
      },
      "source": [
        "# Train"
      ]
    },
    {
      "cell_type": "markdown",
      "metadata": {
        "id": "5Z6qBcPDf3Za",
        "colab_type": "text"
      },
      "source": [
        "**Arguments** \n",
        "\n",
        "\n",
        "```\n",
        "model_name : Name of the model. If already exists continue the training\n",
        "--author author_name : insert name of the author\n",
        "--params num_parameter : choose parameters --> 10 for ov1, 20 for ov2, 999 for quick test. Default is 1\n",
        "```"
      ]
    },
    {
      "cell_type": "code",
      "metadata": {
        "id": "8qjqPdsgfw9b",
        "colab_type": "code",
        "colab": {
          "base_uri": "https://localhost:8080/",
          "height": 1000
        },
        "outputId": "04521e6e-7fa1-411c-ee74-9c2522e5523d"
      },
      "source": [
        "!python3 ./seld.py ov1_filters32_quick2 --author Sveva --params 999"
      ],
      "execution_count": 19,
      "outputs": [
        {
          "output_type": "stream",
          "text": [
            "Using TensorFlow backend.\n",
            "-------------------------------------------------------------------------------------------------------\n",
            "The code expected two inputs\n",
            "\t>> python seld.py <job-id> --author <name> --params <task-id>\n",
            "\t\t<job-id> is a unique identifier which is used for output filenames (models, training plots). You can use any number or string for this.\n",
            "\t\t<task-id> is used to choose the user-defined parameter set from parameter.py\n",
            "Using default inputs for now\n",
            "-------------------------------------------------------------------------------------------------------\n",
            "Namespace(author='Sveva', model_name='ov1_filters32_quick2', params=999)\n",
            "SET: 999\n",
            "QUICK TEST MODE\n",
            "\n",
            "quick_test: True\n",
            "azi_only: True\n",
            "dataset: tau\n",
            "overlap: 1\n",
            "split: 0\n",
            "db: 30\n",
            "nfft: 512\n",
            "sequence_length: 512\n",
            "batch_size: 10\n",
            "dropout_rate: 0.2\n",
            "nb_cnn2d_filt: 32\n",
            "pool_size: [8, 8, 2]\n",
            "rnn_size: [128, 128]\n",
            "fnn_size: [32]\n",
            "loss_weights: [1.0, 50.0]\n",
            "xyz_def_zero: True\n",
            "nb_epochs: 5\n",
            "mode: regr\n",
            "nb_cnn3d_filt: 32\n",
            "cnn_3d: False\n",
            "weakness: 0\n",
            "patience: 200\n",
            "{'epochs': 0, 'patience_cnt': 0, 'best_metric': 99999, 'best_std': 99999, 'best_conf_mat': None, 'best_epoch': -1}\n",
            "unique_name: models/Sveva/tau_ov1_split0_regr0_3d0_ov1_filters32_quick2\n",
            "\n",
            "WARNING:tensorflow:From ./seld.py:162: The name tf.InteractiveSession is deprecated. Please use tf.compat.v1.InteractiveSession instead.\n",
            "\n",
            "2020-02-19 11:32:38.275557: I tensorflow/core/platform/profile_utils/cpu_utils.cc:94] CPU Frequency: 2200000000 Hz\n",
            "2020-02-19 11:32:38.275829: I tensorflow/compiler/xla/service/service.cc:168] XLA service 0x262ebc0 initialized for platform Host (this does not guarantee that XLA will be used). Devices:\n",
            "2020-02-19 11:32:38.275870: I tensorflow/compiler/xla/service/service.cc:176]   StreamExecutor device (0): Host, Default Version\n",
            "2020-02-19 11:32:38.279079: I tensorflow/stream_executor/platform/default/dso_loader.cc:44] Successfully opened dynamic library libcuda.so.1\n",
            "2020-02-19 11:32:38.281209: E tensorflow/stream_executor/cuda/cuda_driver.cc:318] failed call to cuInit: CUDA_ERROR_NO_DEVICE: no CUDA-capable device is detected\n",
            "2020-02-19 11:32:38.281271: I tensorflow/stream_executor/cuda/cuda_diagnostics.cc:156] kernel driver does not appear to be running on this host (6230588fab14): /proc/driver/nvidia/version does not exist\n",
            "WARNING:tensorflow:From ./seld.py:164: The name tf.summary.FileWriter is deprecated. Please use tf.compat.v1.summary.FileWriter instead.\n",
            "\n",
            "Datagen_mode: train, nb_files: 200, nb_classes:11\n",
            "nb_frames_file: 5166, feat_len: 256, nb_ch: 8, label_len:33\n",
            "\n",
            "Dataset: tau, ov: 1, split: 0\n",
            "batch_size: 10, seq_len: 512, shuffle: True\n",
            "label_dir: ../Dataset/TAU Dataset/label_ov1_split0_nfft512_regr0\n",
            " feat_dir: ../Dataset/TAU Dataset/spec_ov1_split0_30db_nfft512_norm\n",
            "\n",
            "Datagen_mode: test, nb_files: 50, nb_classes:11\n",
            "nb_frames_file: 5166, feat_len: 256, nb_ch: 8, label_len:33\n",
            "\n",
            "Dataset: tau, ov: 1, split: 0\n",
            "batch_size: 10, seq_len: 512, shuffle: False\n",
            "label_dir: ../Dataset/TAU Dataset/label_ov1_split0_nfft512_regr0\n",
            " feat_dir: ../Dataset/TAU Dataset/spec_ov1_split0_30db_nfft512_norm\n",
            "\n",
            "FEATURES:\n",
            "\tdata_in: (10, 8, 512, 256)\n",
            "\tdata_out: [(10, 512, 11), (10, 512, 22)]\n",
            "\n",
            "nb_batch in test: 5\n",
            "MODEL:\n",
            "\tdropout_rate: 0.2\n",
            "\tCNN: nb_cnn_filt: 32, pool_size[8, 8, 2]\n",
            "\trnn_size: [128, 128], fnn_size: [32]\n",
            "\n",
            "WARNING:tensorflow:From /usr/local/lib/python3.6/dist-packages/keras/backend/tensorflow_backend.py:66: The name tf.get_default_graph is deprecated. Please use tf.compat.v1.get_default_graph instead.\n",
            "\n",
            "WARNING:tensorflow:From /usr/local/lib/python3.6/dist-packages/keras/backend/tensorflow_backend.py:541: The name tf.placeholder is deprecated. Please use tf.compat.v1.placeholder instead.\n",
            "\n",
            "start input: Tensor(\"input_1:0\", shape=(?, 512, 256, 8), dtype=float32)\n",
            "Tensor(\"input_1:0\", shape=(?, 512, 256, 8), dtype=float32)\n",
            "input_dim: 2\n",
            "input_spec: InputSpec(ndim=4, axes={-1: 8})\n",
            "input dim: 2\n",
            "filters: 32\n",
            "index 2: 64\n",
            "index 3: 96\n",
            "f rijk: Tensor(\"quaternion_conv2d_1/strided_slice:0\", shape=(3, 3, 2, 32), dtype=float32) Tensor(\"quaternion_conv2d_1/strided_slice_1:0\", shape=(3, 3, 2, 32), dtype=float32) Tensor(\"quaternion_conv2d_1/strided_slice_2:0\", shape=(3, 3, 2, 32), dtype=float32) Tensor(\"quaternion_conv2d_1/strided_slice_3:0\", shape=(3, 3, 2, 32), dtype=float32)\n",
            "cat kern rijk: Tensor(\"quaternion_conv2d_1/concat:0\", shape=(3, 3, 8, 32), dtype=float32) Tensor(\"quaternion_conv2d_1/concat_1:0\", shape=(3, 3, 8, 32), dtype=float32) Tensor(\"quaternion_conv2d_1/concat_2:0\", shape=(3, 3, 8, 32), dtype=float32) Tensor(\"quaternion_conv2d_1/concat_3:0\", shape=(3, 3, 8, 32), dtype=float32)\n",
            "cat kern: Tensor(\"quaternion_conv2d_1/concat_4:0\", shape=(3, 3, 8, 128), dtype=float32)\n",
            "input_dim: 2\n",
            "kernel size: (3, 3)\n",
            "input dim: 2\n",
            "4*input dim: 8\n",
            "filters: 32\n",
            "4*filter: 128\n",
            "cat kern shape: (3, 3, Dimension(8), 128)\n",
            "output: Tensor(\"quaternion_conv2d_1/convolution:0\", shape=(?, 512, 256, 128), dtype=float32)\n",
            "Tensor(\"quaternion_conv2d_1/BiasAdd:0\", shape=(?, 512, 256, 128), dtype=float32)\n",
            "WARNING:tensorflow:From /usr/local/lib/python3.6/dist-packages/keras/backend/tensorflow_backend.py:190: The name tf.get_default_session is deprecated. Please use tf.compat.v1.get_default_session instead.\n",
            "\n",
            "WARNING:tensorflow:From /usr/local/lib/python3.6/dist-packages/keras/backend/tensorflow_backend.py:207: The name tf.global_variables is deprecated. Please use tf.compat.v1.global_variables instead.\n",
            "\n",
            "WARNING:tensorflow:From /usr/local/lib/python3.6/dist-packages/keras/backend/tensorflow_backend.py:216: The name tf.is_variable_initialized is deprecated. Please use tf.compat.v1.is_variable_initialized instead.\n",
            "\n",
            "WARNING:tensorflow:From /usr/local/lib/python3.6/dist-packages/keras/backend/tensorflow_backend.py:223: The name tf.variables_initializer is deprecated. Please use tf.compat.v1.variables_initializer instead.\n",
            "\n",
            "WARNING:tensorflow:From /usr/local/lib/python3.6/dist-packages/keras/backend/tensorflow_backend.py:2041: The name tf.nn.fused_batch_norm is deprecated. Please use tf.compat.v1.nn.fused_batch_norm instead.\n",
            "\n",
            "WARNING:tensorflow:From /usr/local/lib/python3.6/dist-packages/keras/backend/tensorflow_backend.py:148: The name tf.placeholder_with_default is deprecated. Please use tf.compat.v1.placeholder_with_default instead.\n",
            "\n",
            "Tensor(\"batch_normalization_1/cond/Merge:0\", shape=(?, 512, 256, 128), dtype=float32)\n",
            "Tensor(\"activation_1/Relu:0\", shape=(?, 512, 256, 128), dtype=float32)\n",
            "WARNING:tensorflow:From /usr/local/lib/python3.6/dist-packages/keras/backend/tensorflow_backend.py:4267: The name tf.nn.max_pool is deprecated. Please use tf.nn.max_pool2d instead.\n",
            "\n",
            "Tensor(\"max_pooling2d_1/MaxPool:0\", shape=(?, 512, 32, 128), dtype=float32)\n",
            "WARNING:tensorflow:From /usr/local/lib/python3.6/dist-packages/keras/backend/tensorflow_backend.py:3733: calling dropout (from tensorflow.python.ops.nn_ops) with keep_prob is deprecated and will be removed in a future version.\n",
            "Instructions for updating:\n",
            "Please use `rate` instead of `keep_prob`. Rate should be set to `rate = 1 - keep_prob`.\n",
            "Tensor(\"dropout_1/cond/Merge:0\", shape=(?, 512, 32, 128), dtype=float32)\n",
            "Tensor(\"dropout_1/cond/Merge:0\", shape=(?, 512, 32, 128), dtype=float32)\n",
            "input_dim: 32\n",
            "input_spec: InputSpec(ndim=4, axes={-1: 128})\n",
            "input dim: 32\n",
            "filters: 32\n",
            "index 2: 64\n",
            "index 3: 96\n",
            "f rijk: Tensor(\"quaternion_conv2d_2/strided_slice:0\", shape=(3, 3, 32, 32), dtype=float32) Tensor(\"quaternion_conv2d_2/strided_slice_1:0\", shape=(3, 3, 32, 32), dtype=float32) Tensor(\"quaternion_conv2d_2/strided_slice_2:0\", shape=(3, 3, 32, 32), dtype=float32) Tensor(\"quaternion_conv2d_2/strided_slice_3:0\", shape=(3, 3, 32, 32), dtype=float32)\n",
            "cat kern rijk: Tensor(\"quaternion_conv2d_2/concat:0\", shape=(3, 3, 128, 32), dtype=float32) Tensor(\"quaternion_conv2d_2/concat_1:0\", shape=(3, 3, 128, 32), dtype=float32) Tensor(\"quaternion_conv2d_2/concat_2:0\", shape=(3, 3, 128, 32), dtype=float32) Tensor(\"quaternion_conv2d_2/concat_3:0\", shape=(3, 3, 128, 32), dtype=float32)\n",
            "cat kern: Tensor(\"quaternion_conv2d_2/concat_4:0\", shape=(3, 3, 128, 128), dtype=float32)\n",
            "input_dim: 32\n",
            "kernel size: (3, 3)\n",
            "input dim: 32\n",
            "4*input dim: 128\n",
            "filters: 32\n",
            "4*filter: 128\n",
            "cat kern shape: (3, 3, Dimension(128), 128)\n",
            "output: Tensor(\"quaternion_conv2d_2/convolution:0\", shape=(?, 512, 32, 128), dtype=float32)\n",
            "Tensor(\"quaternion_conv2d_2/BiasAdd:0\", shape=(?, 512, 32, 128), dtype=float32)\n",
            "Tensor(\"batch_normalization_2/cond/Merge:0\", shape=(?, 512, 32, 128), dtype=float32)\n",
            "Tensor(\"activation_2/Relu:0\", shape=(?, 512, 32, 128), dtype=float32)\n",
            "Tensor(\"max_pooling2d_2/MaxPool:0\", shape=(?, 512, 4, 128), dtype=float32)\n",
            "Tensor(\"dropout_2/cond/Merge:0\", shape=(?, 512, 4, 128), dtype=float32)\n",
            "Tensor(\"dropout_2/cond/Merge:0\", shape=(?, 512, 4, 128), dtype=float32)\n",
            "input_dim: 32\n",
            "input_spec: InputSpec(ndim=4, axes={-1: 128})\n",
            "input dim: 32\n",
            "filters: 32\n",
            "index 2: 64\n",
            "index 3: 96\n",
            "f rijk: Tensor(\"quaternion_conv2d_3/strided_slice:0\", shape=(3, 3, 32, 32), dtype=float32) Tensor(\"quaternion_conv2d_3/strided_slice_1:0\", shape=(3, 3, 32, 32), dtype=float32) Tensor(\"quaternion_conv2d_3/strided_slice_2:0\", shape=(3, 3, 32, 32), dtype=float32) Tensor(\"quaternion_conv2d_3/strided_slice_3:0\", shape=(3, 3, 32, 32), dtype=float32)\n",
            "cat kern rijk: Tensor(\"quaternion_conv2d_3/concat:0\", shape=(3, 3, 128, 32), dtype=float32) Tensor(\"quaternion_conv2d_3/concat_1:0\", shape=(3, 3, 128, 32), dtype=float32) Tensor(\"quaternion_conv2d_3/concat_2:0\", shape=(3, 3, 128, 32), dtype=float32) Tensor(\"quaternion_conv2d_3/concat_3:0\", shape=(3, 3, 128, 32), dtype=float32)\n",
            "cat kern: Tensor(\"quaternion_conv2d_3/concat_4:0\", shape=(3, 3, 128, 128), dtype=float32)\n",
            "input_dim: 32\n",
            "kernel size: (3, 3)\n",
            "input dim: 32\n",
            "4*input dim: 128\n",
            "filters: 32\n",
            "4*filter: 128\n",
            "cat kern shape: (3, 3, Dimension(128), 128)\n",
            "output: Tensor(\"quaternion_conv2d_3/convolution:0\", shape=(?, 512, 4, 128), dtype=float32)\n",
            "Tensor(\"quaternion_conv2d_3/BiasAdd:0\", shape=(?, 512, 4, 128), dtype=float32)\n",
            "Tensor(\"batch_normalization_3/cond/Merge:0\", shape=(?, 512, 4, 128), dtype=float32)\n",
            "Tensor(\"activation_3/Relu:0\", shape=(?, 512, 4, 128), dtype=float32)\n",
            "Tensor(\"max_pooling2d_3/MaxPool:0\", shape=(?, 512, 2, 128), dtype=float32)\n",
            "Tensor(\"dropout_3/cond/Merge:0\", shape=(?, 512, 2, 128), dtype=float32)\n",
            "WARNING:tensorflow:From /usr/local/lib/python3.6/dist-packages/keras/backend/tensorflow_backend.py:4432: The name tf.random_uniform is deprecated. Please use tf.random.uniform instead.\n",
            "\n",
            "ok\n",
            "ok\n",
            "ok\n",
            "ok\n",
            "ok\n",
            "ok\n",
            "ok\n",
            "ok\n",
            "ok\n",
            "ok\n",
            "ok\n",
            "ok\n",
            "ok\n",
            "ok\n",
            "ok\n",
            "ok\n",
            "WARNING:tensorflow:From /usr/local/lib/python3.6/dist-packages/keras/optimizers.py:793: The name tf.train.Optimizer is deprecated. Please use tf.compat.v1.train.Optimizer instead.\n",
            "\n",
            "WARNING:tensorflow:From /usr/local/lib/python3.6/dist-packages/keras/backend/tensorflow_backend.py:3657: The name tf.log is deprecated. Please use tf.math.log instead.\n",
            "\n",
            "WARNING:tensorflow:From /usr/local/lib/python3.6/dist-packages/tensorflow_core/python/ops/nn_impl.py:183: where (from tensorflow.python.ops.array_ops) is deprecated and will be removed in a future version.\n",
            "Instructions for updating:\n",
            "Use tf.where in 2.0, which has the same broadcast rule as np.where\n",
            "Model: \"model_1\"\n",
            "__________________________________________________________________________________________________\n",
            "Layer (type)                    Output Shape         Param #     Connected to                     \n",
            "==================================================================================================\n",
            "input_1 (InputLayer)            (None, 512, 256, 8)  0                                            \n",
            "__________________________________________________________________________________________________\n",
            "quaternion_conv2d_1 (Quaternion (None, 512, 256, 128 2432        input_1[0][0]                    \n",
            "__________________________________________________________________________________________________\n",
            "batch_normalization_1 (BatchNor (None, 512, 256, 128 512         quaternion_conv2d_1[0][0]        \n",
            "__________________________________________________________________________________________________\n",
            "activation_1 (Activation)       (None, 512, 256, 128 0           batch_normalization_1[0][0]      \n",
            "__________________________________________________________________________________________________\n",
            "max_pooling2d_1 (MaxPooling2D)  (None, 512, 32, 128) 0           activation_1[0][0]               \n",
            "__________________________________________________________________________________________________\n",
            "dropout_1 (Dropout)             (None, 512, 32, 128) 0           max_pooling2d_1[0][0]            \n",
            "__________________________________________________________________________________________________\n",
            "quaternion_conv2d_2 (Quaternion (None, 512, 32, 128) 36992       dropout_1[0][0]                  \n",
            "__________________________________________________________________________________________________\n",
            "batch_normalization_2 (BatchNor (None, 512, 32, 128) 512         quaternion_conv2d_2[0][0]        \n",
            "__________________________________________________________________________________________________\n",
            "activation_2 (Activation)       (None, 512, 32, 128) 0           batch_normalization_2[0][0]      \n",
            "__________________________________________________________________________________________________\n",
            "max_pooling2d_2 (MaxPooling2D)  (None, 512, 4, 128)  0           activation_2[0][0]               \n",
            "__________________________________________________________________________________________________\n",
            "dropout_2 (Dropout)             (None, 512, 4, 128)  0           max_pooling2d_2[0][0]            \n",
            "__________________________________________________________________________________________________\n",
            "quaternion_conv2d_3 (Quaternion (None, 512, 4, 128)  36992       dropout_2[0][0]                  \n",
            "__________________________________________________________________________________________________\n",
            "batch_normalization_3 (BatchNor (None, 512, 4, 128)  512         quaternion_conv2d_3[0][0]        \n",
            "__________________________________________________________________________________________________\n",
            "activation_3 (Activation)       (None, 512, 4, 128)  0           batch_normalization_3[0][0]      \n",
            "__________________________________________________________________________________________________\n",
            "max_pooling2d_3 (MaxPooling2D)  (None, 512, 2, 128)  0           activation_3[0][0]               \n",
            "__________________________________________________________________________________________________\n",
            "dropout_3 (Dropout)             (None, 512, 2, 128)  0           max_pooling2d_3[0][0]            \n",
            "__________________________________________________________________________________________________\n",
            "permute_1 (Permute)             (None, 2, 512, 128)  0           dropout_3[0][0]                  \n",
            "__________________________________________________________________________________________________\n",
            "reshape_1 (Reshape)             (None, 512, 256)     0           permute_1[0][0]                  \n",
            "__________________________________________________________________________________________________\n",
            "bidirectional_1 (Bidirectional) (None, 512, 128)     221952      reshape_1[0][0]                  \n",
            "__________________________________________________________________________________________________\n",
            "bidirectional_2 (Bidirectional) (None, 512, 128)     123648      bidirectional_1[0][0]            \n",
            "__________________________________________________________________________________________________\n",
            "time_distributed_3 (TimeDistrib (None, 512, 32)      1056        bidirectional_2[0][0]            \n",
            "__________________________________________________________________________________________________\n",
            "time_distributed_1 (TimeDistrib (None, 512, 32)      1056        bidirectional_2[0][0]            \n",
            "__________________________________________________________________________________________________\n",
            "dropout_5 (Dropout)             (None, 512, 32)      0           time_distributed_3[0][0]         \n",
            "__________________________________________________________________________________________________\n",
            "dropout_4 (Dropout)             (None, 512, 32)      0           time_distributed_1[0][0]         \n",
            "__________________________________________________________________________________________________\n",
            "time_distributed_4 (TimeDistrib (None, 512, 11)      363         dropout_5[0][0]                  \n",
            "__________________________________________________________________________________________________\n",
            "time_distributed_2 (TimeDistrib (None, 512, 22)      726         dropout_4[0][0]                  \n",
            "__________________________________________________________________________________________________\n",
            "sed_out (Activation)            (None, 512, 11)      0           time_distributed_4[0][0]         \n",
            "__________________________________________________________________________________________________\n",
            "doa_out (Activation)            (None, 512, 22)      0           time_distributed_2[0][0]         \n",
            "==================================================================================================\n",
            "Total params: 426,753\n",
            "Trainable params: 425,985\n",
            "Non-trainable params: 768\n",
            "__________________________________________________________________________________________________\n",
            "WARNING:tensorflow:From ./seld.py:235: The name tf.summary.scalar is deprecated. Please use tf.compat.v1.summary.scalar instead.\n",
            "\n",
            "WARNING:tensorflow:From ./seld.py:279: The name tf.summary.merge_all is deprecated. Please use tf.compat.v1.summary.merge_all instead.\n",
            "\n",
            "WARNING:tensorflow:From /usr/local/lib/python3.6/dist-packages/keras/backend/tensorflow_backend.py:1033: The name tf.assign_add is deprecated. Please use tf.compat.v1.assign_add instead.\n",
            "\n",
            "WARNING:tensorflow:From /usr/local/lib/python3.6/dist-packages/keras/backend/tensorflow_backend.py:1020: The name tf.assign is deprecated. Please use tf.compat.v1.assign instead.\n",
            "\n",
            "WARNING:tensorflow:From /usr/local/lib/python3.6/dist-packages/keras/backend/tensorflow_backend.py:3005: The name tf.Session is deprecated. Please use tf.compat.v1.Session instead.\n",
            "\n",
            "Epoch 1/1\n",
            "2020-02-19 11:33:14.547427: W tensorflow/core/framework/cpu_allocator_impl.cc:81] Allocation of 671088640 exceeds 10% of system memory.\n",
            "2020-02-19 11:33:16.093234: W tensorflow/core/framework/cpu_allocator_impl.cc:81] Allocation of 671088640 exceeds 10% of system memory.\n",
            "2020-02-19 11:33:16.093990: W tensorflow/core/framework/cpu_allocator_impl.cc:81] Allocation of 671088640 exceeds 10% of system memory.\n",
            "2020-02-19 11:33:27.482641: W tensorflow/core/framework/cpu_allocator_impl.cc:81] Allocation of 671088640 exceeds 10% of system memory.\n",
            "2020-02-19 11:33:28.874148: W tensorflow/core/framework/cpu_allocator_impl.cc:81] Allocation of 671088640 exceeds 10% of system memory.\n",
            "5/5 [==============================] - 133s 27s/step - loss: 1.9897 - sed_out_loss: 0.6899 - doa_out_loss: 0.0260 - val_loss: 1.7610 - val_sed_out_loss: 0.6863 - val_doa_out_loss: 0.0215\n",
            "pred: (50, 512, 22)\n",
            "precision: 0.08418568056648308\n",
            "recall: 0.816793893129771\n",
            "epoch_cnt: 0, time: 172.39s, tr_loss: 1.99, val_loss: 1.76, F1_overall: 0.15, ER_overall: 8.83, doa_error_gt: 1.00, doa_error_pred: 0.07, good_pks_ratio:0.08, sed_score: 4.84, doa_score: 0.63, best_error_metric: 2.73, best_epoch : 0, best_std: 2.11\n",
            "Epoch 1/1\n",
            "5/5 [==============================] - 111s 22s/step - loss: 1.9816 - sed_out_loss: 0.6847 - doa_out_loss: 0.0259 - val_loss: 1.7747 - val_sed_out_loss: 0.6829 - val_doa_out_loss: 0.0218\n",
            "pred: (50, 512, 22)\n",
            "precision: 0.08151093439363817\n",
            "recall: 0.6259541984732825\n",
            "epoch_cnt: 1, time: 142.42s, tr_loss: 1.98, val_loss: 1.77, F1_overall: 0.14, ER_overall: 7.02, doa_error_gt: 1.00, doa_error_pred: 0.07, good_pks_ratio:0.09, sed_score: 3.94, doa_score: 0.62, best_error_metric: 2.28, best_epoch : 1, best_std: 1.66\n",
            "Epoch 1/1\n",
            "5/5 [==============================] - 117s 23s/step - loss: 1.8824 - sed_out_loss: 0.6775 - doa_out_loss: 0.0241 - val_loss: 1.7511 - val_sed_out_loss: 0.6724 - val_doa_out_loss: 0.0216\n",
            "pred: (50, 512, 22)\n",
            "precision: 0.10964083175803403\n",
            "recall: 0.44274809160305345\n",
            "epoch_cnt: 2, time: 148.03s, tr_loss: 1.88, val_loss: 1.75, F1_overall: 0.18, ER_overall: 3.58, doa_error_gt: 1.00, doa_error_pred: 0.08, good_pks_ratio:0.35, sed_score: 2.20, doa_score: 0.49, best_error_metric: 1.35, best_epoch : 2, best_std: 0.86\n",
            "Epoch 1/1\n",
            "5/5 [==============================] - 110s 22s/step - loss: 1.8641 - sed_out_loss: 0.6691 - doa_out_loss: 0.0239 - val_loss: 1.7387 - val_sed_out_loss: 0.6641 - val_doa_out_loss: 0.0215\n",
            "pred: (50, 512, 22)\n",
            "precision: 0.11965811965811966\n",
            "recall: 0.21374045801526717\n",
            "epoch_cnt: 3, time: 141.02s, tr_loss: 1.86, val_loss: 1.74, F1_overall: 0.15, ER_overall: 1.56, doa_error_gt: 1.00, doa_error_pred: 0.09, good_pks_ratio:0.55, sed_score: 1.21, doa_score: 0.39, best_error_metric: 0.80, best_epoch : 3, best_std: 0.41\n",
            "Epoch 1/1\n",
            "5/5 [==============================] - 113s 23s/step - loss: 1.8104 - sed_out_loss: 0.6614 - doa_out_loss: 0.0230 - val_loss: 1.7217 - val_sed_out_loss: 0.6555 - val_doa_out_loss: 0.0213\n",
            "pred: (50, 512, 22)\n",
            "precision: 0.1111111111111111\n",
            "recall: 0.03816793893129771\n",
            "epoch_cnt: 4, time: 144.72s, tr_loss: 1.81, val_loss: 1.72, F1_overall: 0.06, ER_overall: 0.96, doa_error_gt: 1.00, doa_error_pred: 0.17, good_pks_ratio:0.54, sed_score: 0.95, doa_score: 0.39, best_error_metric: 0.67, best_epoch : 4, best_std: 0.28\n",
            "\n",
            "----  FINISHED TRAINING  ----\n",
            "\n",
            "best_conf_mat : [[0.98896712 0.00987153 0.00116136]\n",
            " [0.97268037 0.02334433 0.0039753 ]\n",
            " [0.         0.         0.        ]]\n",
            "best_conf_mat_diag : [0.98896712 0.02334433 0.        ]\n",
            "saved model for the best_epoch: 4 with best_metric: 0.6735663723784574,  \n",
            "DOA Metrics: doa_loss_gt: 0.9970767911153212, doa_loss_pred: 0.17282288722002512, good_pks_ratio: 0.5430078125\n",
            "SED Metrics: ER_overall: 0.9618320610687023, F1_overall: 0.056818181818181726\n",
            "Confidence Interval: lower_interval: 0.4290641849203459, upper_inteval: 0.9180685598365689\n",
            "unique_name: models/Sveva/tau_ov1_split0_regr0_3d0_ov1_filters32_quick2 \n"
          ],
          "name": "stdout"
        }
      ]
    },
    {
      "cell_type": "markdown",
      "metadata": {
        "id": "NcsoYkAgGRou",
        "colab_type": "text"
      },
      "source": [
        "## Tensorboard\n"
      ]
    },
    {
      "cell_type": "code",
      "metadata": {
        "id": "f06bigJUGWnx",
        "colab_type": "code",
        "colab": {}
      },
      "source": [
        "%load_ext tensorboard\n",
        "%tensorboard --logdir \"/content/drive/My Drive/Neural Networks/DQNN-master/Code/logs/Sveva\""
      ],
      "execution_count": 0,
      "outputs": []
    }
  ]
}